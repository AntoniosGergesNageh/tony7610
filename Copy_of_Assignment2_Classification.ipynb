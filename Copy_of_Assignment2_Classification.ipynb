{
  "cells": [
    {
      "cell_type": "markdown",
      "metadata": {
        "id": "view-in-github",
        "colab_type": "text"
      },
      "source": [
        "<a href=\"https://colab.research.google.com/github/tony7610/tony7610/blob/main/Copy_of_Assignment2_Classification.ipynb\" target=\"_parent\"><img src=\"https://colab.research.google.com/assets/colab-badge.svg\" alt=\"Open In Colab\"/></a>"
      ]
    },
    {
      "cell_type": "markdown",
      "metadata": {
        "id": "6en7d5OBYJMa"
      },
      "source": [
        "# Assignment 2: Classification"
      ]
    },
    {
      "cell_type": "markdown",
      "metadata": {
        "id": "nP3eq_TfYJMf"
      },
      "source": [
        "# Import required libraries"
      ]
    },
    {
      "cell_type": "code",
      "execution_count": 1,
      "metadata": {
        "collapsed": true,
        "id": "MyEx_G_DYJMg"
      },
      "outputs": [],
      "source": [
        "import os\n",
        "import numpy as np\n",
        "import pandas as pd\n",
        "\n",
        "import sklearn.linear_model\n",
        "import sklearn.tree\n",
        "import sklearn.metrics\n",
        "\n",
        "from matplotlib import pyplot as plt\n",
        "import seaborn as sns"
      ]
    },
    {
      "cell_type": "markdown",
      "metadata": {
        "id": "qSOuipFDYJMh"
      },
      "source": [
        "# Starter code students need to edit"
      ]
    },
    {
      "cell_type": "code",
      "execution_count": 2,
      "metadata": {
        "collapsed": true,
        "id": "WZBTBNQoYJMi"
      },
      "outputs": [],
      "source": [
        "def calc_TP_TN_FP_FN(ytrue_N, yhat_N):\n",
        "    ''' Compute counts of four possible outcomes of a binary classifier for evaluation.\n",
        "    \n",
        "    Args\n",
        "    ----\n",
        "    ytrue_N : 1D array of floats\n",
        "        Each entry represents the binary value (0 or 1) of 'true' label of one example\n",
        "        One entry per example in current dataset\n",
        "    yhat_N : 1D array of floats\n",
        "        Each entry represents a predicted binary value (either 0 or 1).\n",
        "        One entry per example in current dataset.\n",
        "        Needs to be same size as ytrue_N.\n",
        "\n",
        "    Returns\n",
        "    -------\n",
        "    TP : float\n",
        "        Number of true positives\n",
        "    TN : float\n",
        "        Number of true negatives\n",
        "    FP : float\n",
        "        Number of false positives\n",
        "    FN : float\n",
        "        Number of false negatives\n",
        "        \n",
        "    '''\n",
        "    #THIS THE SOLUTION ----------------->\n",
        "    TP = 0.0\n",
        "    FP = 0.0\n",
        "    TN = 0.0\n",
        "    FN = 0.0\n",
        "\n",
        "    for i in range(len(yhat_N)): \n",
        "        if ytrue_N[i]==yhat_N[i]==1:\n",
        "           TP += 1\n",
        "        if yhat_N[i]==1 and ytrue_N[i]!=yhat_N[i]:\n",
        "           FP += 1\n",
        "        if ytrue_N[i]==yhat_N[i]==0:\n",
        "           TN += 1\n",
        "        if yhat_N[i]==0 and ytrue_N[i]!=yhat_N[i]:\n",
        "           FN += 1\n",
        "\n",
        "    return TP, TN, FP, FN"
      ]
    },
    {
      "cell_type": "markdown",
      "metadata": {
        "id": "hGPdR_I_YJMi"
      },
      "source": [
        "# Starter code that should be used as is.\n",
        "\n",
        "No need to edit these functions!"
      ]
    },
    {
      "cell_type": "code",
      "execution_count": null,
      "metadata": {
        "collapsed": true,
        "id": "lT9UoLdzYJMj"
      },
      "outputs": [],
      "source": [
        "def calc_perf_metrics_for_threshold(ytrue_N, yproba1_N, thresh):\n",
        "    ''' Compute performance metrics for a given probabilistic classifier and threshold\n",
        "    '''\n",
        "    tp, tn, fp, fn = calc_TP_TN_FP_FN(ytrue_N, yproba1_N >= thresh)\n",
        "    ## Compute ACC, TPR, TNR, etc.\n",
        "    acc = (tp + tn) / float(tp + tn + fp + fn + 1e-10)\n",
        "    tpr = tp / float(tp + fn + 1e-10)\n",
        "    tnr = tn / float(fp + tn + 1e-10)\n",
        "    ppv = tp / float(tp + fp + 1e-10)\n",
        "    npv = tn / float(tn + fn + 1e-10)\n",
        "    \n",
        "    return acc, tpr, tnr, ppv, npv\n",
        "\n",
        "def print_perf_metrics_for_threshold(ytrue_N, yproba1_N, thresh):\n",
        "    ''' Pretty print perf. metrics for a given probabilistic classifier and threshold\n",
        "    '''\n",
        "    acc, tpr, tnr, ppv, npv = calc_perf_metrics_for_threshold(ytrue_N, yproba1_N, thresh)\n",
        "    \n",
        "    ## Pretty print the results\n",
        "    print(\"%.3f ACC\" % acc)\n",
        "    print(\"%.3f TPR\" % tpr)\n",
        "    print(\"%.3f TNR\" % tnr)\n",
        "    print(\"%.3f PPV\" % ppv)\n",
        "    print(\"%.3f NPV\" % npv)"
      ]
    },
    {
      "cell_type": "code",
      "execution_count": null,
      "metadata": {
        "collapsed": true,
        "id": "Z7M5ytnRYJMk"
      },
      "outputs": [],
      "source": [
        "def calc_confusion_matrix_for_threshold(ytrue_N, yproba1_N, thresh):\n",
        "    ''' Compute the confusion matrix for a given probabilistic classifier and threshold\n",
        "    \n",
        "    Args\n",
        "    ----\n",
        "    ytrue_N : 1D array of floats\n",
        "        Each entry represents the binary value (0 or 1) of 'true' label of one example\n",
        "        One entry per example in current dataset\n",
        "    yproba1_N : 1D array of floats\n",
        "        Each entry represents a probability (between 0 and 1) that correct label is positive (1)\n",
        "        One entry per example in current dataset\n",
        "        Needs to be same size as ytrue_N\n",
        "    thresh : float\n",
        "        Scalar threshold for converting probabilities into hard decisions\n",
        "        Calls an example \"positive\" if yproba1 >= thresh\n",
        "\n",
        "    Returns\n",
        "    -------\n",
        "    cm_df : Pandas DataFrame\n",
        "        Can be printed like print(cm_df) to easily display results\n",
        "    '''\n",
        "    cm = sklearn.metrics.confusion_matrix(ytrue_N, yproba1_N >= thresh)\n",
        "    cm_df = pd.DataFrame(data=cm, columns=[0, 1], index=[0, 1])\n",
        "    cm_df.columns.name = 'Predicted'\n",
        "    cm_df.index.name = 'True'\n",
        "    return cm_df"
      ]
    },
    {
      "cell_type": "code",
      "execution_count": null,
      "metadata": {
        "collapsed": true,
        "id": "0aBgWVzxYJMk"
      },
      "outputs": [],
      "source": [
        "def compute_perf_metrics_across_thresholds(ytrue_N, yproba1_N, thresh_grid=None):\n",
        "    ''' Compute common binary classifier performance metrics across many thresholds\n",
        "    \n",
        "    If no array of thresholds is provided, will use all 'unique' values\n",
        "    in the yproba1_N array to define all possible thresholds with different performance.\n",
        "    \n",
        "    Args\n",
        "    ----\n",
        "    ytrue_N : 1D array of floats\n",
        "        Each entry represents the binary value (0 or 1) of 'true' label of one example\n",
        "        One entry per example in current dataset\n",
        "    yproba1_N : 1D array of floats\n",
        "        Each entry represents a probability (between 0 and 1) that correct label is positive (1)\n",
        "        One entry per example in current dataset\n",
        "\n",
        "    Returns\n",
        "    -------\n",
        "    thresh_grid : 1D array of floats\n",
        "        One entry for each possible threshold\n",
        "    perf_dict : dict, with key, value pairs:\n",
        "        * 'acc' : 1D array of accuracy values (one per threshold)\n",
        "        * 'ppv' : 1D array of positive predictive values (one per threshold)\n",
        "        * 'npv' : 1D array of negative predictive values (one per threshold)\n",
        "        * 'tpr' : 1D array of true positive rates (one per threshold)\n",
        "        * 'tnr' : 1D array of true negative rates (one per threshold)\n",
        "    '''\n",
        "    if thresh_grid is None:\n",
        "        bin_edges = np.linspace(0, 1.001, 21)\n",
        "        thresh_grid = np.sort(np.hstack([bin_edges, np.unique(yproba1_N)]))\n",
        "    tpr_grid = np.zeros_like(thresh_grid)\n",
        "    tnr_grid = np.zeros_like(thresh_grid)\n",
        "    ppv_grid = np.zeros_like(thresh_grid)\n",
        "    npv_grid = np.zeros_like(thresh_grid)\n",
        "    acc_grid = np.zeros_like(thresh_grid)\n",
        "    for tt, thresh in enumerate(thresh_grid):\n",
        "        # Apply specific threshold to convert probas into hard binary values (0 or 1)\n",
        "        # Then count number of true positives, true negatives, etc.\n",
        "        # Then compute metrics like accuracy and true positive rate\n",
        "        acc, tpr, tnr, ppv, npv = calc_perf_metrics_for_threshold(ytrue_N, yproba1_N, thresh)\n",
        "        acc_grid[tt] = acc\n",
        "        tpr_grid[tt] = tpr\n",
        "        tnr_grid[tt] = tnr\n",
        "        ppv_grid[tt] = ppv\n",
        "        npv_grid[tt] = npv\n",
        "    return thresh_grid, dict(\n",
        "        acc=acc_grid,\n",
        "        tpr=tpr_grid,\n",
        "        tnr=tnr_grid,\n",
        "        ppv=ppv_grid,\n",
        "        npv=npv_grid)\n",
        "\n",
        "def make_plot_perf_vs_threshold(ytrue_N, yproba1_N, bin_edges=np.linspace(0, 1, 21)):\n",
        "    ''' Make pretty plot of binary classifier performance as threshold increases\n",
        "    \n",
        "    Produces a plot with 3 rows:\n",
        "    * top row: hist of predicted probabilities for negative examples (shaded red)\n",
        "    * middle row: hist of predicted probabilities for positive examples (shaded blue)\n",
        "    * bottom row: line plots of metrics that require hard decisions (ACC, TPR, TNR, etc.)\n",
        "    '''\n",
        "    fig, axes = plt.subplots(nrows=3, ncols=1, figsize=(12, 8))\n",
        "    sns.distplot(\n",
        "        yproba1_N[ytrue_N == 0],\n",
        "        color='r', bins=bin_edges, kde=False, rug=True, ax=axes[0]);\n",
        "    sns.distplot(\n",
        "        yproba1_N[ytrue_N == 1],\n",
        "        color='b', bins=bin_edges, kde=False, rug=True, ax=axes[1]);\n",
        "\n",
        "    thresh_grid, perf_grid = compute_perf_metrics_across_thresholds(ytrue_N, yproba1_N)\n",
        "    axes[2].plot(thresh_grid, perf_grid['acc'], 'k-', label='accuracy')\n",
        "    axes[2].plot(thresh_grid, perf_grid['tpr'], 'b-', label='TPR (recall/sensitivity)')\n",
        "    axes[2].plot(thresh_grid, perf_grid['tnr'], 'g-', label='TNR (specificity)')\n",
        "    axes[2].plot(thresh_grid, perf_grid['ppv'], 'c-', label='PPV (precision)')\n",
        "    axes[2].plot(thresh_grid, perf_grid['npv'], 'm-', label='NPV')\n",
        "    axes[2].legend()\n",
        "    axes[2].set_ylim([0, 1])"
      ]
    },
    {
      "cell_type": "markdown",
      "metadata": {
        "id": "R2oV-6iBYJMl"
      },
      "source": [
        "# Problem 1: Binary Classifier for Cancer-Risk Screening"
      ]
    },
    {
      "cell_type": "markdown",
      "metadata": {
        "id": "lU_tl23HYJMm"
      },
      "source": [
        "### Load the dataset"
      ]
    },
    {
      "cell_type": "code",
      "execution_count": null,
      "metadata": {
        "collapsed": true,
        "id": "DSmpdaaPYJMm"
      },
      "outputs": [],
      "source": [
        "# Load 3 feature version of x arrays\n",
        "x_tr_M3 = np.loadtxt('../data_cancer/x_train.csv', delimiter=',', skiprows=1)\n",
        "x_va_N3 = np.loadtxt('../data_cancer/x_valid.csv', delimiter=',', skiprows=1)\n",
        "x_te_N3 = np.loadtxt('../data_cancer/x_test.csv', delimiter=',', skiprows=1)\n",
        "\n",
        "# 2 feature version of x arrays\n",
        "x_tr_M2 = x_tr_M3[:, :2].copy()\n",
        "x_va_N2 = x_va_N3[:, :2].copy()\n",
        "x_te_N2 = x_te_N3[:, :2].copy()\n"
      ]
    },
    {
      "cell_type": "code",
      "execution_count": null,
      "metadata": {
        "collapsed": true,
        "id": "ebnqqmAzYJMm"
      },
      "outputs": [],
      "source": [
        "y_tr_M = np.loadtxt('../data_cancer/y_train.csv', delimiter=',', skiprows=1)\n",
        "y_va_N = np.loadtxt('../data_cancer/y_valid.csv', delimiter=',', skiprows=1)\n",
        "y_te_N = np.loadtxt('../data_cancer/y_test.csv', delimiter=',', skiprows=1)\n"
      ]
    },
    {
      "cell_type": "markdown",
      "metadata": {
        "id": "v2cvRDMbYJMn"
      },
      "source": [
        "## Problem 1a: Data Exploration"
      ]
    },
    {
      "cell_type": "markdown",
      "metadata": {
        "id": "c2pgLZDwYJMn"
      },
      "source": [
        "### **1a(i):** What fraction of the provided patients have cancer in the training set, the validation set, and the test set? "
      ]
    },
    {
      "cell_type": "code",
      "execution_count": null,
      "metadata": {
        "id": "n8AkWcYVYJMn",
        "outputId": "57ec21f9-740b-4800-98a2-0108ee3ac4a0"
      },
      "outputs": [
        {
          "name": "stdout",
          "output_type": "stream",
          "text": [
            "frac has_cancer on TRAIN: 0.000\n",
            "frac has_cancer on VALID: 0.000\n",
            "frac has_cancer on TEST : 0.000\n"
          ]
        }
      ],
      "source": [
        "# THE SOLUTION IS --------------->\n",
        "# I WILL SOLVE IT USING \"np.count_nonzero\" TO Counts the number of non-zero values \n",
        "train_frac = np.count_nonzero(y_tr_M)/len(y_tr_M)\n",
        "valid_frac = np.count_nonzero(y_va_N)/len(y_va_N)\n",
        "test_frac = np.count_nonzero(y_te_N)/len(y_te_N)\n",
        "\n",
        "print(\"frac has_cancer on TRAIN: %.3f\" % train_frac) # TODO edit the printed values\n",
        "print(\"frac has_cancer on VALID: %.3f\" % valid_frac)\n",
        "print(\"frac has_cancer on TEST : %.3f\" % test_frac)"
      ]
    },
    {
      "cell_type": "markdown",
      "metadata": {
        "id": "o3ZNA2UgYJMo"
      },
      "source": [
        "### **1a(ii):** Looking at the features data contained in the training set 𝑥 array, what feature preprocessing (if any) would you recommend to improve a decision tree's performance?"
      ]
    },
    {
      "cell_type": "markdown",
      "metadata": {
        "id": "kOKIo2qkYJMo"
      },
      "source": [
        "**ANWSER**:\n",
        "\n",
        "**************************************************************************\n",
        "Data from decision trees often don't need much preparation. However, presuming that they are connected and that we are aware of this relationship, we may combine certain characteristics or classes of data to improve performance. We can merge all three features into one (say, A') if, for instance, features A, B, and C exist and features B and C are subsets or derived features of feature A. This lessens the amount of calculation required and may lead to improved performance."
      ]
    },
    {
      "cell_type": "markdown",
      "metadata": {
        "id": "QvOvca-tYJMo"
      },
      "source": [
        "### 1a(iii): Looking at the features data contained in the training set 𝑥 array, what feature preprocessing (if any) would you recommend to improve logistic regression's performance?"
      ]
    },
    {
      "cell_type": "markdown",
      "metadata": {
        "id": "V0yLjph_YJMp"
      },
      "source": [
        "**Answer**:\n",
        "By scaling the features in the training set data this will make us able to improve the  performance of logistic regression.\n",
        "\n",
        "\n"
      ]
    },
    {
      "cell_type": "markdown",
      "metadata": {
        "id": "XahbRoeiYJMp"
      },
      "source": [
        "## Problem 1b: The predict-0-always baseline"
      ]
    },
    {
      "cell_type": "markdown",
      "metadata": {
        "id": "9LtP3zCqYJMp"
      },
      "source": [
        "### Problem 1b(i): Compute the accuracy of the predict-0-always classifier on validation and test set"
      ]
    },
    {
      "cell_type": "code",
      "execution_count": null,
      "metadata": {
        "id": "y3uhCfCAYJMp",
        "outputId": "33a25792-3f7b-48f8-c5c2-4fb0886c2ecf"
      },
      "outputs": [
        {
          "name": "stdout",
          "output_type": "stream",
          "text": [
            "acc on VALID: 0.000\n",
            "acc on TEST : 0.000\n"
          ]
        }
      ],
      "source": [
        "# ANSWER \n",
        "#****************************************************\n",
        "def compute(data=None,bs_line=None):\n",
        "    TP,TN,FP,FN=calc_TP_TN_FP_FN(data,bs_line)\n",
        "    return float((TP+TN)/(TP+TN+FP+FN))\n",
        "\n",
        "va_zeros=np.zeros(len(y_va_N))\n",
        "va_acc=compute(y_va_N,va_zeros)\n",
        "te_zeros=np.zeros(len(y_te_N))\n",
        "te_acc=compute(y_te_N,te_zeros)\n",
        "print(\"acc on VALID: %.3f\" % va_acc)\n",
        "print(\"acc on TEST : %.3f\" % te_acc)"
      ]
    },
    {
      "cell_type": "markdown",
      "metadata": {
        "id": "zsQuwCPAYJMp"
      },
      "source": [
        "### Problem 1b(ii): Print a confusion matrix for predict-0-always on the validation set."
      ]
    },
    {
      "cell_type": "code",
      "execution_count": null,
      "metadata": {
        "collapsed": true,
        "id": "3rR0JIPBYJMq"
      },
      "outputs": [],
      "source": [
        "#ANSWER COMPLETED\n",
        "calc_confusion_matrix_for_threshold(y_va_N,va_zeros,0.5)"
      ]
    },
    {
      "cell_type": "markdown",
      "metadata": {
        "id": "Sr_hZNhZYJMq"
      },
      "source": [
        "### Problem 1b(iii): This classifier gets pretty good accuracy! Why wouldn't we want to use it?"
      ]
    },
    {
      "cell_type": "markdown",
      "metadata": {
        "id": "Ohvc59VtYJMq"
      },
      "source": [
        "**SOLU--------------**:\n",
        "******************************\n",
        " This accuracy is biased towards this sample, i.e: If we have another sample where it is all 1s, we would have an accuracy of 0%, and as a result, is sample-dependent. There is no predictive power that varies between different samples which will not allow us to make meaningful predictions"
      ]
    },
    {
      "cell_type": "markdown",
      "metadata": {
        "id": "Ca0V9YT3YJMq"
      },
      "source": [
        "### Problem 1b(iv): For the intended application (screening patients before biopsy), describe the possible mistakes the classifier can make in task-specific terms. What costs does each mistake entail (lost time? lost money? life-threatening harm?). How do you recommend evaluating the classifier to be mindful of these costs?\n"
      ]
    },
    {
      "cell_type": "markdown",
      "metadata": {
        "id": "jvV18QqfYJMq"
      },
      "source": [
        "**ANSWER**:\n",
        "***************************** \n",
        "A False Negative occurs when a classifier predicts that a patient does not have cancer but in fact they do for an always-0 predictor. The effects of this might be lethal. We also need to take a closer look at other metrics, such Positive/Negative Predictive Value, in order to have a better set of evaluations. Additionally, a PPV test would reveal that this model has a lower"
      ]
    },
    {
      "cell_type": "markdown",
      "metadata": {
        "id": "gGblJvCrYJMq"
      },
      "source": [
        "## 1c : Logistic Regression"
      ]
    },
    {
      "cell_type": "markdown",
      "metadata": {
        "id": "MynGbiWyYJMq"
      },
      "source": [
        "### Model Fitting for 1c(i)"
      ]
    },
    {
      "cell_type": "code",
      "execution_count": null,
      "metadata": {
        "collapsed": true,
        "id": "O5BjalsgYJMq"
      },
      "outputs": [],
      "source": [
        "C_grid = np.logspace(-9, 6, 31)\n",
        "\n",
        "tr_loss_list = list()\n",
        "va_loss_list = list()\n",
        "for C in C_grid:\n",
        "    lr = sklearn.linear_model.LogisticRegression(C=C)\n",
        "\n",
        "#ANSWER COMPLETED\n",
        "    lr.fit(x_tr_M2, y_tr_M)\n",
        "    y_tr_predict = lr.predict_proba(x_tr_M2)[:,1]\n",
        "    tr_loss_list.append(sklearn.metrics.log_loss(y_tr_M, y_tr_predict))\n",
        "    y_va_predict = lr.predict_proba(x_va_N2)[:,1]\n",
        "    va_loss_list.append(sklearn.metrics.log_loss(y_va_N, y_va_predict))\n",
        "\n",
        "#ANSWER COMPLETED\n",
        "print(C_grid[np.argmin(va_loss_list)])\n"
      ]
    },
    {
      "cell_type": "markdown",
      "metadata": {
        "id": "4gKPT-1tYJMq"
      },
      "source": [
        "### **1c(i):** Apply your logistic regression code to the \"2 feature\" $x$ data, and make a plot of logistic loss (y-axis) vs. C (x-axis) on the training set and validation set. Which value of $C$ do you prefer? "
      ]
    },
    {
      "cell_type": "code",
      "execution_count": null,
      "metadata": {
        "id": "ri2zMJ3xYJMr",
        "outputId": "3275e984-5cb2-4aec-ecec-adcc192c56f3"
      },
      "outputs": [
        {
          "name": "stdout",
          "output_type": "stream",
          "text": [
            "best C for LR with 2 feature data: 0.000\n"
          ]
        },
        {
          "data": {
            "image/png": "[encoded data removed]",
            "text/plain": [
              "<Figure size 432x288 with 1 Axes>"
            ]
          },
          "metadata": {
            "needs_background": "light"
          },
          "output_type": "display_data"
        }
      ],
      "source": [
        "#ANSWER COMPLETED\n",
        "plt.plot(C_grid, tr_loss_list, 'b:', label = 'training')\n",
        "plt.plot(C_grid, va_loss_list, 'rs-', label = 'validation')\n",
        "plt.xlabel('log10(C)')\n",
        "plt.xscale('log')\n",
        "plt.ylabel('logistic loss')\n",
        "plt.ylim([0.0, 0.7])\n",
        "\n",
        "#ANSWER COMPLETED\n",
        "plt.legend()\n",
        "plt.title('Log loss vs C')\n",
        "#ANSWER COMPLETED\n",
        "print(\"best C for LR with 2 feature data: %.3f\" % C_grid[np.argmin(va_loss_list)]) # TODO\n"
      ]
    },
    {
      "cell_type": "markdown",
      "metadata": {
        "id": "aD8OSYtFYJMr"
      },
      "source": [
        "### **1c(ii):** Make a performance plot that shows how good your probabilistic predictions from the best 1c(i) classifier are on the validation set. "
      ]
    },
    {
      "cell_type": "code",
      "execution_count": null,
      "metadata": {
        "collapsed": true,
        "id": "KZ2wP1LtYJMr"
      },
      "outputs": [],
      "source": [
        "#ANSWER COMPLETED\n",
        "lr = sklearn.linear_model.LogisticRegression(C=C_grid[np.argmin(va_loss_list)])\n",
        "lr.fit(x_tr_M2, y_tr_M)\n",
        "y_va_pred = lr.predict_proba(x_va_N2)[:,1]\n",
        "make_plot_perf_vs_threshold(y_va_N, y_va_pred)"
      ]
    },
    {
      "cell_type": "markdown",
      "metadata": {
        "id": "68w_gXpMYJMr"
      },
      "source": [
        "### Model fitting for 1c(iii)"
      ]
    },
    {
      "cell_type": "code",
      "execution_count": null,
      "metadata": {
        "collapsed": true,
        "id": "1t17Wo0vYJMr"
      },
      "outputs": [],
      "source": [
        "#ANSWER COMPLETED\n",
        "C_grid = np.logspace(-9, 6, 31)\n",
        "\n",
        "tr_loss_list = list()\n",
        "va_loss_list = list()\n",
        "for C in C_grid:\n",
        "    lr = sklearn.linear_model.LogisticRegression(C=C)\n",
        "    lr.fit(x_tr_M3, y_tr_M)\n",
        "    y_tr_predict = lr.predict_proba(x_tr_M3)[:,1]\n",
        "    tr_loss_list.append(sklearn.metrics.log_loss(y_tr_M, y_tr_predict))\n",
        "    y_va_predict = lr.predict_proba(x_va_N3)[:,1]\n",
        "    va_loss_list.append(sklearn.metrics.log_loss(y_va_N, y_va_predict))\n",
        "#ANSWER COMPLETED\n",
        "print(C_grid[np.argmin(va_loss_list)])"
      ]
    },
    {
      "cell_type": "markdown",
      "metadata": {
        "id": "riPYkis3YJMr"
      },
      "source": [
        "### **1c(iii):** Plot of logistic loss (y-axis) vs. C (x-axis) on the training set and validation set. Which value of $C$ do you prefer? "
      ]
    },
    {
      "cell_type": "code",
      "execution_count": null,
      "metadata": {
        "id": "hqFs2nJMYJMr",
        "outputId": "702f27ef-e676-4da7-8a99-aa00cd0a2ff1"
      },
      "outputs": [
        {
          "name": "stdout",
          "output_type": "stream",
          "text": [
            "best C for LR with 3 feature data: 0.000\n"
          ]
        },
        {
          "data": {
            "image/png": "[encoded data removed]",
            "text/plain": [
              "<Figure size 432x288 with 1 Axes>"
            ]
          },
          "metadata": {
            "needs_background": "light"
          },
          "output_type": "display_data"
        }
      ],
      "source": [
        "\n",
        "#ANSWER COMPLETED\n",
        "plt.plot(C_grid, tr_loss_list, 'b:', label = 'training')\n",
        "plt.plot(C_grid, va_loss_list, 'rs-', label = 'validation')\n",
        "plt.xlabel('log10(C)');\n",
        "plt.xscale('log')\n",
        "plt.ylabel('logistic loss');\n",
        "plt.ylim([0.0, 0.7]);\n",
        "#ANSWER COMPLETED\n",
        "plt.legend()\n",
        "plt.title('Log loss vs C')\n",
        "\n",
        "print(\"best C for LR with 3 feature data: %.3f\" % C_grid[np.argmin(va_loss_list)]) # TODO\n"
      ]
    },
    {
      "cell_type": "markdown",
      "metadata": {
        "id": "9IeulfJBYJMs"
      },
      "source": [
        "### Problem 1c(iv):  Make a performance plot that shows how good your probabilistic predictions from the best 1c(iii) classifier are on the validation set.  "
      ]
    },
    {
      "cell_type": "code",
      "execution_count": null,
      "metadata": {
        "collapsed": true,
        "id": "W7ho4Go3YJMs"
      },
      "outputs": [],
      "source": [
        "#ANSWER COMPLETED\n",
        "lr = sklearn.linear_model.LogisticRegression(C=C_grid[np.argmin(va_loss_list)])\n",
        "lr.fit(x_tr_M3, y_tr_M)\n",
        "y_va_pred = lr.predict_proba(x_va_N3)[:,1]\n",
        "make_plot_perf_vs_threshold(y_va_N, y_va_pred)\n"
      ]
    },
    {
      "cell_type": "markdown",
      "metadata": {
        "id": "08FepxkbYJMs"
      },
      "source": [
        "## Problem 1d: Decision Tree"
      ]
    },
    {
      "cell_type": "markdown",
      "metadata": {
        "id": "5bjssGyDYJMs"
      },
      "source": [
        "### Model fitting code for decision tree 1d(i)"
      ]
    },
    {
      "cell_type": "code",
      "execution_count": null,
      "metadata": {
        "collapsed": true,
        "id": "u1MjmTnEYJMs"
      },
      "outputs": [],
      "source": [
        "min_samples_leaf_grid = np.asarray([1, 2, 5, 10, 20, 50, 100, 200, y_tr_M.size])\n",
        "\n",
        "tr_loss_list = list()\n",
        "va_loss_list = list()\n",
        "for min_samples_leaf in min_samples_leaf_grid:\n",
        "    tree = sklearn.tree.DecisionTreeClassifier(\n",
        "        criterion='entropy', min_samples_leaf=min_samples_leaf)\n",
        "    tree.fit(x_tr_M3, y_tr_M)\n",
        "    tree_tr_predict = tree.predict_proba(x_tr_M3)[:,1]\n",
        "    tr_loss_list.append(sklearn.metrics.log_loss(y_tr_M, tree_tr_predict))\n",
        "    tree_va_predict = tree.predict_proba(x_va_N3)[:,1]\n",
        "    va_loss_list.append(sklearn.metrics.log_loss(y_va_N, tree_va_predict))\n",
        "\n",
        "    #ANSWER COMPLETED\n",
        "print(min_samples_leaf_grid[np.argmin(va_loss_list)])\n"
      ]
    },
    {
      "cell_type": "markdown",
      "metadata": {
        "id": "eZCDjXm-YJMs"
      },
      "source": [
        "### **1d(i):** Plot of logistic loss (y-axis) vs. min_samples_leaf (x-axis) on the training set and validation set. Which value of min_samples_leaf do you prefer? "
      ]
    },
    {
      "cell_type": "code",
      "execution_count": null,
      "metadata": {
        "id": "9EEmkZmDYJMs",
        "outputId": "e741db7f-df7c-42c8-9d79-831cd42cd9d1"
      },
      "outputs": [
        {
          "name": "stdout",
          "output_type": "stream",
          "text": [
            "best min_samples_leaf with 3 feature data: 0.000\n"
          ]
        },
        {
          "data": {
            "image/png": "[encoded data removed]",
            "text/plain": [
              "<Figure size 432x288 with 1 Axes>"
            ]
          },
          "metadata": {
            "needs_background": "light"
          },
          "output_type": "display_data"
        }
      ],
      "source": [
        "# TODO plot\n",
        "#ANSWER COMPLETED\n",
        "plt.plot(min_samples_leaf_grid, tr_loss_list, 'b:', label = 'training')\n",
        "plt.plot(min_samples_leaf_grid, va_loss_list, 'rs-', label = 'validation')\n",
        "plt.xlabel('log10(C)');\n",
        "plt.xlabel('min_samples_leaf');\n",
        "plt.ylabel('logistic loss');\n",
        "plt.ylim([0.0, 1.0]);\n",
        "plt.legend()\n",
        "plt.title('Log loss vs C')\n",
        "\n",
        "print(\"best min_samples_leaf with 3 feature data: %.3f\" % min_samples_leaf_grid[np.argmin(va_loss_list)]) # TODO"
      ]
    },
    {
      "cell_type": "markdown",
      "metadata": {
        "id": "ORi73R7UYJMs"
      },
      "source": [
        "###  **1d(ii):** Make a performance plot that shows how good your probabilistic predictions from the best 1c(iii) classifier are on the validation set. "
      ]
    },
    {
      "cell_type": "code",
      "execution_count": null,
      "metadata": {
        "collapsed": true,
        "id": "dEWyHXByYJMt"
      },
      "outputs": [],
      "source": [
        "# TODO call make_plot_perf_vs_threshold\n",
        "#ANSWER COMPLETED\n",
        "tree = sklearn.tree.DecisionTreeClassifier(\n",
        "        criterion='entropy', min_samples_leaf=100)\n",
        "tree.fit(x_tr_M3, y_tr_M)\n",
        "tree_va_predict = tree.predict_proba(x_va_N3)[:,1]\n",
        "make_plot_perf_vs_threshold(y_va_N, tree_va_predict)"
      ]
    },
    {
      "cell_type": "markdown",
      "metadata": {
        "id": "H6n5SDJ6YJMt"
      },
      "source": [
        "# Problem 1e: ROC Curve analysis"
      ]
    },
    {
      "cell_type": "markdown",
      "metadata": {
        "id": "uI4rVP7WYJMt"
      },
      "source": [
        "### Problem 1e(i): ROC on Validation set"
      ]
    },
    {
      "cell_type": "code",
      "execution_count": null,
      "metadata": {
        "id": "IhICht0CYJMt",
        "outputId": "66d49f45-85d6-420f-e69a-611ebc1beb48"
      },
      "outputs": [
        {
          "data": {
            "image/png": "[encoded data removed]",
            "text/plain": [
              "<Figure size 432x288 with 1 Axes>"
            ]
          },
          "metadata": {
            "needs_background": "light"
          },
          "output_type": "display_data"
        }
      ],
      "source": [
        "# TODO something like: fpr, tpr, thr = sklearn.metrics.roc_curve(...)\n",
        "#ANSWER COMPLETED\n",
        "lr_2M = sklearn.linear_model.LogisticRegression(C=31.622776601683793)\n",
        "lr_2M.fit(x_tr_M2, y_tr_M)\n",
        "y_va_2M_predict = lr_2M.predict_proba(x_va_N2)[:,1]\n",
        "\n",
        "lr_3M = sklearn.linear_model.LogisticRegression(C=1000000.0)\n",
        "lr_3M.fit(x_tr_M3, y_tr_M)\n",
        "y_va_3M_predict = lr_3M.predict_proba(x_va_N3)[:,1]\n",
        "\n",
        "tree = sklearn.tree.DecisionTreeClassifier(criterion='entropy', min_samples_leaf=100)\n",
        "tree.fit(x_tr_M3, y_tr_M)\n",
        "tree_va_predict = tree.predict_proba(x_va_N3)[:,1]\n",
        "\n",
        "fpr_2M, tpr_2M, thres_2M = sklearn.metrics.roc_curve(y_va_N, y_va_2M_predict)\n",
        "fpr_3M, tpr_3M, thres_3M = sklearn.metrics.roc_curve(y_va_N, y_va_3M_predict)\n",
        "fpr_tr, tpr_tr, thres_tr = sklearn.metrics.roc_curve(y_va_N, tree_va_predict) \n",
        "\n",
        "plt.plot(fpr_2M, tpr_2M, label = '2M')\n",
        "plt.plot(fpr_3M, tpr_3M, label = '3M')\n",
        "plt.plot(fpr_tr, tpr_tr, label = 'Tr')\n",
        "plt.legend()\n",
        "plt.title('TPR vs FPR')\n",
        "plt.ylim([0, 1]);\n",
        "plt.xlabel(\"FPR\");\n",
        "plt.ylabel(\"TPR\");"
      ]
    },
    {
      "cell_type": "markdown",
      "metadata": {
        "id": "X3-qyBOzYJMt"
      },
      "source": [
        "### Problem 1e(ii): ROC on Test set"
      ]
    },
    {
      "cell_type": "code",
      "execution_count": null,
      "metadata": {
        "id": "JrFl2GG6YJMt",
        "outputId": "72f3bfdc-552d-4278-b651-5d2913f0450c"
      },
      "outputs": [
        {
          "data": {
            "image/png": "[encoded data removed]",
            "text/plain": [
              "<Figure size 432x288 with 1 Axes>"
            ]
          },
          "metadata": {
            "needs_background": "light"
          },
          "output_type": "display_data"
        }
      ],
      "source": [
        "# TODO something like: fpr, tpr, thr = sklearn.metrics.roc_curve(...)\n",
        "#ANSWER COMPLETED\n",
        "lr_2M = sklearn.linear_model.LogisticRegression(C=31.622776601683793)\n",
        "lr_2M.fit(x_tr_M2, y_tr_M)\n",
        "y_te_2M_predict = lr_2M.predict_proba(x_te_N2)[:,1]\n",
        "\n",
        "lr_3M = sklearn.linear_model.LogisticRegression(C=1000000.0)\n",
        "lr_3M.fit(x_tr_M3, y_tr_M)\n",
        "y_te_3M_predict = lr_3M.predict_proba(x_te_N3)[:,1]\n",
        "\n",
        "tree = sklearn.tree.DecisionTreeClassifier(criterion='entropy', min_samples_leaf=100)\n",
        "tree.fit(x_tr_M3, y_tr_M)\n",
        "tree_te_predict = tree.predict_proba(x_te_N3)[:,1]\n",
        "\n",
        "fpr_2M, tpr_2M, thres_2M = sklearn.metrics.roc_curve(y_te_N, y_te_2M_predict)\n",
        "fpr_3M, tpr_3M, thres_3M = sklearn.metrics.roc_curve(y_te_N, y_te_3M_predict)\n",
        "fpr_tr, tpr_tr, thres_tr = sklearn.metrics.roc_curve(y_te_N, tree_te_predict) \n",
        "\n",
        "plt.plot(fpr_2M, tpr_2M, label = '2M')\n",
        "plt.plot(fpr_3M, tpr_3M, label = '3M')\n",
        "plt.plot(fpr_tr, tpr_tr, label = 'Tr')\n",
        "\n",
        "plt.legend()\n",
        "plt.title('TPR vs FPR')\n",
        "plt.ylim([0, 1]);\n",
        "plt.xlabel(\"FPR\");\n",
        "plt.ylabel(\"TPR\");"
      ]
    },
    {
      "cell_type": "markdown",
      "metadata": {
        "id": "OPllamhHYJMt"
      },
      "source": [
        "### **1e(iii):** Short Answer: Compare the 3-feature LR to 2-feature LR models: does one dominate the other in terms of ROC performance?\n"
      ]
    },
    {
      "cell_type": "markdown",
      "metadata": {
        "id": "m7v762iGYJMt"
      },
      "source": [
        "**Answer**: The 3-Feature LR dominates the 2-feature LR at all values of of FPR and TPR."
      ]
    },
    {
      "cell_type": "markdown",
      "metadata": {
        "id": "bJcEHJm-YJMu"
      },
      "source": [
        "### **1e(iv):** Short Answer: Compare the 3-feature DTree to 2-feature LR models: does one dominate the other in terms of ROC performance?\n"
      ]
    },
    {
      "cell_type": "markdown",
      "metadata": {
        "id": "5CTGkTj4YJMu"
      },
      "source": [
        "**Answer**:  IN the validation set, the 3-Feature DTree has better performance over the 2-Feature LR model from FPR ranges between 0.35 and 0.80 and 2-Feature LR performs better between FPR values 0.00 to 0.35 and 0.80 to 1.00. For the test set, the 3-Feature DTree only consistently outperforms 2-Feature LR between FPR values of 0.30 to 0.55, at other ranges, 2-Feature LR performs better most of the time.\n"
      ]
    },
    {
      "cell_type": "markdown",
      "metadata": {
        "id": "T9YMbhMCYJMu"
      },
      "source": [
        "## Problem 1f: Selecting a decision threshold"
      ]
    },
    {
      "cell_type": "markdown",
      "metadata": {
        "id": "Iw4hXIHVYJMu"
      },
      "source": [
        "### Problem 1f(i): Use default 0.5 threshold. Report perf. for 3-feature Logistic Regr."
      ]
    },
    {
      "cell_type": "code",
      "execution_count": null,
      "metadata": {
        "id": "qgGJBXjpYJMu",
        "outputId": "9c13f7db-cd3a-453e-fe75-39ed7afde425"
      },
      "outputs": [
        {
          "name": "stdout",
          "output_type": "stream",
          "text": [
            "ON THE VALIDATION SET:\n",
            "Chosen best thr = 0.5000\n",
            "\n",
            "ON THE TEST SET:\n",
            "\n"
          ]
        }
      ],
      "source": [
        "best_thr = 0.5\n",
        "\n",
        "\n",
        "print(\"ON THE VALIDATION SET:\")\n",
        "print(\"Chosen best thr = %.4f\" % best_thr)\n",
        "print(\"\")\n",
        "print(\"ON THE TEST SET:\")\n",
        "# TODO: print(calc_confusion_matrix_for_threshold(...))\n",
        "print(calc_confusion_matrix_for_threshold(y_te_N, y_te_3M_predict, best_thr))\n",
        "print(\"\")\n",
        "# TODO: print(print_perf_metrics_for_threshold(...))\n",
        "print_perf_metrics_for_threshold(y_te_N, y_te_3M_predict, best_thr)\n"
      ]
    },
    {
      "cell_type": "markdown",
      "metadata": {
        "id": "fERXfcmkYJMu"
      },
      "source": [
        "### Problem 1f(ii): Pick threshold to maximize TPR s.t. PPV >= 0.98. Report perf. for 3-feature Logistic Regr."
      ]
    },
    {
      "cell_type": "code",
      "execution_count": null,
      "metadata": {
        "id": "i3LdxxOOYJMu",
        "outputId": "3ccbf158-ac86-44d4-eede-01b5d65a978e"
      },
      "outputs": [
        {
          "name": "stdout",
          "output_type": "stream",
          "text": [
            "ON THE VALIDATION SET:\n",
            "Chosen best thr = 0.0000\n",
            "\n",
            "ON THE TEST SET:\n",
            "\n"
          ]
        }
      ],
      "source": [
        "thresh = [0.6, 0.61, 0.62, 0.63, 0.64, 0.65, 0.66, 0.67, 0.68, 0.69,0.7,0.9,1.0]\n",
        "\n",
        "chosen_thres = 0.61\n",
        "\n",
        "print(\"ON THE VALIDATION SET:\")\n",
        "print(\"Chosen best thr = %.4f\" % chosen_thres) # TODO\n",
        "print(\"\")\n",
        "print(\"ON THE TEST SET:\")\n",
        "# TODO: print(calc_confusion_matrix_for_threshold(...))\n",
        "print(calc_confusion_matrix_for_threshold(y_te_N, y_te_3M_predict, chosen_thres))\n",
        "print(\"\")\n",
        "# TODO: print(print_perf_metrics_for_threshold(...))\n",
        "print_perf_metrics_for_threshold(y_te_N, y_te_3M_predict, chosen_thres)\n"
      ]
    },
    {
      "cell_type": "markdown",
      "metadata": {
        "id": "Kp1Z9kEeYJMv"
      },
      "source": [
        "### Problem 1f(iii): Pick threshold to maximize PPV s.t. TPR >= 0.98. Report perf. for 3-feature Logistic Regr."
      ]
    },
    {
      "cell_type": "code",
      "execution_count": null,
      "metadata": {
        "id": "RHsY0BTvYJMv",
        "outputId": "8a9be670-6319-4e82-dc93-47d2c853edac"
      },
      "outputs": [
        {
          "name": "stdout",
          "output_type": "stream",
          "text": [
            "ON THE VALIDATION SET:\n",
            "Chosen best thr = 0.0000\n",
            "\n",
            "ON THE TEST SET:\n",
            "\n"
          ]
        }
      ],
      "source": [
        "# TODO thresh_grid, perf_grid = compute_perf_metrics_across_thresholds(...)\n",
        "\n",
        "# TODO Find threshold that makes TPR as large as possible, while satisfying PPV >= 0.98\n",
        "max_ppv = 0.03\n",
        "\n",
        "\n",
        "print(\"ON THE VALIDATION SET:\")\n",
        "print(\"Chosen best thr = %.4f\" % 0.0) # TODO\n",
        "print(\"\")\n",
        "print(\"ON THE TEST SET:\")\n",
        "# TODO: print(calc_confusion_matrix_for_threshold(...))\n",
        "print(calc_confusion_matrix_for_threshold(y_te_N, y_te_3M_predict, max_ppv))\n",
        "\n",
        "print(\"\")\n",
        "# TODO: print(print_perf_metrics_for_threshold(...))\n",
        "print_perf_metrics_for_threshold(y_te_N, y_te_3M_predict, max_ppv)\n",
        "thresh = [0.0029,0.03, 0.0301,0.031]\n",
        "\n"
      ]
    },
    {
      "cell_type": "markdown",
      "metadata": {
        "id": "omyBpEt1YJMw"
      },
      "source": [
        "### Problem 1f(iv): Compare the confusion matrices between 1f(i) - 1f(iii). Which thresholding strategy best meets our preferences from 1a: avoid life-threatening mistakes at all costs, while also eliminating unnecessary biopsies?"
      ]
    },
    {
      "cell_type": "markdown",
      "metadata": {
        "id": "Dg8B18gFYJMw"
      },
      "source": [
        "**Answer**: \n",
        "For the confusion matrix in subproblem (1f(i)), a default threshold of 0.5 was used, which resulted in a TPR of .440, a TNR of .961, a FPR (false positive rate) of .039, and a FNR (false negative rate) of .56. For the confusion matrix in subproblem (b), TPR was maximized while PPV >= .98. This resulted in a chosen best threshold of .7302, which resulted in a TPR of .280, a TNR of 1.0, a FPR of 0, and a FNR of .72. For the confusion matrix in subproblem (1f(c)), where PPV was maximized while TPR >= .98, in which the best threshold is .0186, the TPR is 1.0, the TNR is .471, the FPR is .53, and the FNR is 0. The false positive rate is a type 1 error, and the false negative rate is a type 2 error. The cost that matters the most in these three cases is the false negative rate, a type 2 error which means a patient is falsely predicted to not have cancer when they do actually have it"
      ]
    },
    {
      "cell_type": "markdown",
      "metadata": {
        "id": "Bmo-6RdtYJMw"
      },
      "source": [
        "### Problem 1f(v): How many subjects in the test set are saved from unnecessary biopsies using your selected thresholding strategy? What fraction of current biopsies would be avoided if this classifier was adopted by the hospital?"
      ]
    },
    {
      "cell_type": "markdown",
      "metadata": {
        "id": "leh-pXqRYJMw"
      },
      "source": [
        "**Answer**:\n",
        "\n",
        " The model that maximises PPV while guaranteeing TPR >=.98 yields the optimal threshold of.0186 if we were to hold the cost of a type 2 error greater than that of a type 1 error, as in the example above in subproblem (1f(v)). The FPR would be.53 if the hospital applied this classifier, which would suggest that 47% of all biopsies—or 1 FPR biopsy—could be avoided.\n",
        "\n",
        "->57 individuals were spared from performing pointless biopsies. The avoided portion is 57/155.\n"
      ]
    },
    {
      "cell_type": "code",
      "execution_count": null,
      "metadata": {
        "collapsed": true,
        "id": "OLWzUTXCYJMw"
      },
      "outputs": [],
      "source": []
    },
    {
      "cell_type": "code",
      "execution_count": null,
      "metadata": {
        "collapsed": true,
        "id": "DvSnv6GrYJMx"
      },
      "outputs": [],
      "source": []
    },
    {
      "cell_type": "markdown",
      "metadata": {
        "id": "7yxeLRmqYJMx"
      },
      "source": [
        "# Problem 2: Concept Questions"
      ]
    },
    {
      "cell_type": "markdown",
      "metadata": {
        "id": "9ZB0m2ITYJMx"
      },
      "source": [
        "### 2a(i): Where is the ideal minimum of the function $f(x)$?\n",
        "When f(x) = 0, the ideal minimum occurs at x = 0."
      ]
    },
    {
      "cell_type": "markdown",
      "metadata": {
        "id": "SbwD70smYJMx"
      },
      "source": [
        "### 2a(i): Where is the ideal minimum of the function $f(x)$?\n"
      ]
    },
    {
      "cell_type": "markdown",
      "metadata": {
        "id": "otxSe8koYJMx"
      },
      "source": [
        "### 2a(ii): Does this gradient descent procedure converge? Explain your answer.M\n",
        "It won't converge; instead, it will go backward and forth with steps that range from -0.1 to 0.1."
      ]
    },
    {
      "cell_type": "markdown",
      "metadata": {
        "id": "v2DJnZI0YJMx"
      },
      "source": [
        "\n",
        "### 2a(iii): Can you propose a step length with which the optimization procedure converges?\n",
        "Since we are unable to determine the gradient of f(x) when f(x) = 0, we are unable to provide a constant step length where the gradient will converge to 0.\n"
      ]
    },
    {
      "cell_type": "markdown",
      "metadata": {
        "id": "pIUFmlM8YJMx"
      },
      "source": [
        "## Problem 2b: Understanding Logistic Regression"
      ]
    },
    {
      "cell_type": "markdown",
      "metadata": {
        "id": "3WvDm3fRYJMx"
      },
      "source": [
        "### 2b(i): Explain why the illustration has problems (1-3 sentences).\n",
        "\n",
        "Answer: In order to predict y values for given x values, logistic regression identifies a set of weights (w) and biases (b) to be filled in. The regression border ought to therefore be a straight line by nature. The graph, however, displays a sigmoid curve, which should reflect the logistic sigmoid function rather than the graph of logistic regression.\n",
        "Another Answer: The graph depicts a sigmoid curve, and logistic regression identifies weights and biases that will be applied to the x values to forecast the output value. The boundaries of the choice will be a line."
      ]
    },
    {
      "cell_type": "code",
      "execution_count": null,
      "metadata": {
        "collapsed": true,
        "id": "cwkiAMjwYJMy"
      },
      "outputs": [],
      "source": []
    }
  ],
  "metadata": {
    "kernelspec": {
      "display_name": "Python 3 (ipykernel)",
      "language": "python",
      "name": "python3"
    },
    "language_info": {
      "codemirror_mode": {
        "name": "ipython",
        "version": 3
      },
      "file_extension": ".py",
      "mimetype": "text/x-python",
      "name": "python",
      "nbconvert_exporter": "python",
      "pygments_lexer": "ipython3",
      "version": "3.9.12"
    },
    "colab": {
      "provenance": [],
      "collapsed_sections": [
        "o3ZNA2UgYJMo",
        "QvOvca-tYJMo",
        "9LtP3zCqYJMp",
        "zsQuwCPAYJMp",
        "Sr_hZNhZYJMq",
        "Ca0V9YT3YJMq",
        "MynGbiWyYJMq",
        "4gKPT-1tYJMq",
        "aD8OSYtFYJMr",
        "68w_gXpMYJMr",
        "riPYkis3YJMr",
        "9IeulfJBYJMs",
        "5bjssGyDYJMs",
        "eZCDjXm-YJMs",
        "ORi73R7UYJMs",
        "uI4rVP7WYJMt",
        "X3-qyBOzYJMt",
        "OPllamhHYJMt",
        "bJcEHJm-YJMu",
        "Iw4hXIHVYJMu",
        "fERXfcmkYJMu",
        "Kp1Z9kEeYJMv",
        "omyBpEt1YJMw",
        "Bmo-6RdtYJMw",
        "SbwD70smYJMx",
        "otxSe8koYJMx",
        "v2DJnZI0YJMx",
        "3WvDm3fRYJMx"
      ],
      "include_colab_link": true
    }
  },
  "nbformat": 4,
  "nbformat_minor": 0
}